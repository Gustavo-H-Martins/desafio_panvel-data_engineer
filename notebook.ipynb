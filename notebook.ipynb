{
 "cells": [
  {
   "cell_type": "code",
   "execution_count": 1,
   "metadata": {},
   "outputs": [
    {
     "name": "stdout",
     "output_type": "stream",
     "text": [
      "WebUI SparkJobs: http://BHS-NOTE188:4040\n"
     ]
    },
    {
     "data": {
      "text/html": [
       "\n",
       "            <div>\n",
       "                <p><b>SparkSession - in-memory</b></p>\n",
       "                \n",
       "        <div>\n",
       "            <p><b>SparkContext</b></p>\n",
       "\n",
       "            <p><a href=\"http://BHS-NOTE188:4040\">Spark UI</a></p>\n",
       "\n",
       "            <dl>\n",
       "              <dt>Version</dt>\n",
       "                <dd><code>v3.4.0</code></dd>\n",
       "              <dt>Master</dt>\n",
       "                <dd><code>local[*]</code></dd>\n",
       "              <dt>AppName</dt>\n",
       "                <dd><code>jobGPanvel</code></dd>\n",
       "            </dl>\n",
       "        </div>\n",
       "        \n",
       "            </div>\n",
       "        "
      ],
      "text/plain": [
       "<pyspark.sql.session.SparkSession at 0x26e7a7f35b0>"
      ]
     },
     "execution_count": 1,
     "metadata": {},
     "output_type": "execute_result"
    }
   ],
   "source": [
    "from jobs import Sparkinit\n",
    "from utils import formatar_sql\n",
    "from pyspark.sql.types import StructType, StructField, TimestampType, LongType, StringType, DecimalType, BinaryType\n",
    "spark_start = Sparkinit()\n",
    "\n",
    "spark = spark_start.buscar_sessao_spark()\n",
    "\n",
    "print(f\"WebUI SparkJobs: {spark.sparkContext.uiWebUrl}\")\n",
    "spark.getActiveSession()"
   ]
  },
  {
   "cell_type": "markdown",
   "metadata": {},
   "source": [
    "# Vendas"
   ]
  },
  {
   "cell_type": "code",
   "execution_count": 2,
   "metadata": {},
   "outputs": [
    {
     "name": "stdout",
     "output_type": "stream",
     "text": [
      "root\n",
      " |-- d_dt_vd: timestamp (nullable = true)\n",
      " |-- n_id_fil: long (nullable = true)\n",
      " |-- n_id_vd_fil: long (nullable = true)\n",
      " |-- v_cli_cod: string (nullable = true)\n",
      " |-- n_vlr_tot_vd: decimal(18,6) (nullable = true)\n",
      " |-- n_vlr_tot_desc: decimal(14,4) (nullable = true)\n",
      " |-- v_cpn_eml: string (nullable = true)\n",
      " |-- tp_pgt: string (nullable = true)\n",
      "\n",
      "-RECORD 0------------------------------\n",
      " d_dt_vd        | 2023-10-12 21:00:00  \n",
      " n_id_fil       | 2356284              \n",
      " n_id_vd_fil    | 34366442231          \n",
      " v_cli_cod      | 016E6FCC4F98832719BC \n",
      " n_vlr_tot_vd   | 55.960000            \n",
      " n_vlr_tot_desc | 13.9900              \n",
      " v_cpn_eml      | NAO                  \n",
      " tp_pgt         | A VISTA              \n",
      "only showing top 1 row\n",
      "\n"
     ]
    },
    {
     "data": {
      "text/plain": [
       "\"/* 'Bronze' */\\nSELECT \\n        d_dt_vd,\\n\\tn_id_fil,\\n\\tn_id_vd_fil,\\n\\tv_cli_cod,\\n\\tn_vlr_tot_vd,\\n\\tn_vlr_tot_desc,\\n\\tv_cpn_eml,\\n\\ttp_pgt \\nFROM vendas_tmp\\n\""
      ]
     },
     "execution_count": 2,
     "metadata": {},
     "output_type": "execute_result"
    }
   ],
   "source": [
    "import os\n",
    "# Carregando o dataframe para verificar a estrutura das colunas e tipos de dados\n",
    "path = os.path.abspath(r\"C:\\Users\\gustavo.lopes\\Documentos\\GitHub\\desafio_panvel-data_engineer\\datalake\\camada_0_transient\\VENDAS\")\n",
    "dados = spark.read.format(\"parquet\").load(path)\n",
    "\n",
    "dados.printSchema()\n",
    "\n",
    "dados.show(n=1, vertical=True)\n",
    "colunas = ',\\n\\t'.join(dados.columns)\n",
    "f\"\"\"/* 'Bronze' */\n",
    "SELECT \n",
    "        {colunas} \n",
    "FROM vendas_tmp\n",
    "\"\"\"\n"
   ]
  },
  {
   "cell_type": "code",
   "execution_count": 3,
   "metadata": {},
   "outputs": [
    {
     "name": "stdout",
     "output_type": "stream",
     "text": [
      "+-------------------+-------------+---------------+--------------------+-----------------+--------------------+-------------+--------------+\n",
      "|       data_emissao|codigo_filial|id_venda_filial|      codigo_cliente|valor_total_venda|valor_total_desconto|enviado_email|tipo_pagamento|\n",
      "+-------------------+-------------+---------------+--------------------+-----------------+--------------------+-------------+--------------+\n",
      "|2023-10-12 21:00:00|      2356284|    34366442231|016E6FCC4F98832719BC|            55.96|               13.99|        false|       A VISTA|\n",
      "|2023-10-12 21:00:00|      2221184|    35550863931|035D148EADC74B6C6D2F|            31.48|               25.21|        false|              |\n",
      "|2023-10-27 21:00:00|      2188984|    37392732531|030C1011214A3317E850|             6.49|               13.14|        false|       A VISTA|\n",
      "|2023-10-08 21:00:00|      2608284|     3672652731|04710AFAF1FD9C48EBC3|            52.99|               40.27|        false|              |\n",
      "|2023-10-09 21:00:00|       238084|    37059405031|028DBA5BBB05DDF47E4C|            18.54|                8.38|        false|       A VISTA|\n",
      "|2023-10-23 21:00:00|      2687384|      403806931|012F0A4B6592C311F2ED|            31.90|                5.09|         true|              |\n",
      "|2023-10-17 21:00:00|      2617384|     4392793031|0316E487B4F1B6831BA3|           655.26|              259.95|        false|       A VISTA|\n",
      "|2023-10-05 21:00:00|      2352784|     3967276731|052A34441AD2AE1DFD94|            36.98|                0.00|        false|              |\n",
      "|2023-10-29 21:00:00|      2642584|     3422446731|001EC0D3A64CF4F6C941|            93.47|               45.63|        false|       A VISTA|\n",
      "|2023-10-25 21:00:00|      2620184|     3808200231|03755F35E240B8451322|            70.92|               18.91|        false|              |\n",
      "|2023-10-19 21:00:00|      2198784|    35494168831|0516882260A1031D8719|            27.98|                0.00|         true|              |\n",
      "|2023-10-11 21:00:00|      2186184|    36834033731|028D5FE319C8C62D4BFC|            17.98|                1.56|        false|       A VISTA|\n",
      "|2023-10-21 21:00:00|      2631384|     3541135631|03A4F193268E48C0D124|            47.02|                5.13|         true|       A VISTA|\n",
      "|2023-10-29 21:00:00|      2367484|     4267716431|05191F65ECBA674435B7|             7.98|               36.68|        false|              |\n",
      "|2023-10-08 21:00:00|       259084|    35445273831|009ED5A72E6053182284|           147.93|               46.00|        false|              |\n",
      "|2023-10-22 21:00:00|      2198784|    35494845331|0477E33A9B918C7769EF|            87.85|                0.50|        false|       A VISTA|\n",
      "|2023-10-30 21:00:00|       275884|    36185562831|024DCAF27751A0A07A08|            44.69|                2.51|        false|       A VISTA|\n",
      "|2023-10-18 21:00:00|      2188284|    36436975531|04D97DB0EC3122A68972|            26.39|               15.29|        false|       A VISTA|\n",
      "|2023-10-19 21:00:00|      2440984|     4398824331|011016FEF0EE6346E786|            83.91|               25.78|         true|       A VISTA|\n",
      "|2023-10-22 21:00:00|      2648884|     3497829731|0194D2BC60AF2468C836|            40.45|                9.45|        false|       A PRAZO|\n",
      "+-------------------+-------------+---------------+--------------------+-----------------+--------------------+-------------+--------------+\n",
      "only showing top 20 rows\n",
      "\n"
     ]
    },
    {
     "data": {
      "text/plain": [
       "\"/* 'Silver' */\\nSELECT COALESCE(date_format(vt.d_dt_vd, 'yyyy-MM-dd HH:mm:ss'), '') AS data_emissao,\\n       CAST(vt.n_id_fil AS BIGINT) AS codigo_filial,\\n       CAST(vt.n_id_vd_fil AS BIGINT) AS id_venda_filial,\\n       COALESCE(CAST(vt.v_cli_cod AS STRING), '') AS codigo_cliente,\\n       CAST(vt.n_vlr_tot_vd AS DECIMAL(38, 2)) AS valor_total_venda,\\n       CAST(vt.n_vlr_tot_desc AS DECIMAL(38, 2)) AS valor_total_desconto,\\n       CASE\\n           WHEN vt.v_cpn_eml = 'SIM' THEN TRUE\\n           ELSE FALSE\\n       END AS enviado_email,\\n       COALESCE(CAST(vt.tp_pgt AS STRING), '') AS tipo_pagamento\\nFROM vendas_tmp AS vt\""
      ]
     },
     "execution_count": 3,
     "metadata": {},
     "output_type": "execute_result"
    }
   ],
   "source": [
    "# Criando a tabela temporária e realizando a consulta que depois usaremos para transformar a camada raw\n",
    "dados.createOrReplaceTempView(\"vendas_tmp\")\n",
    "\n",
    "query = formatar_sql(\"\"\"/* 'Silver' */\n",
    "SELECT \n",
    "    COALESCE(date_format(vt.d_dt_vd, 'yyyy-MM-dd HH:mm:ss'), '') AS data_emissao,\n",
    "    CAST(vt.n_id_fil AS BIGINT) AS codigo_filial,\n",
    "    CAST(vt.n_id_vd_fil AS BIGINT) AS id_venda_filial,\n",
    "    COALESCE(CAST(vt.v_cli_cod AS STRING), '') AS codigo_cliente,\n",
    "    CAST(vt.n_vlr_tot_vd AS DECIMAL(38, 2)) AS valor_total_venda,\n",
    "    CAST(vt.n_vlr_tot_desc AS DECIMAL(38, 2)) AS valor_total_desconto,\n",
    "    CASE \n",
    "        WHEN vt.v_cpn_eml  = 'SIM' THEN True\n",
    "        ELSE False\n",
    "    END AS enviado_email,\n",
    "    COALESCE(CAST(vt.tp_pgt AS STRING), '') AS tipo_pagamento\n",
    "FROM vendas_tmp as vt\"\"\")\n",
    "\n",
    "spark.sql(query).show()\n",
    "query"
   ]
  },
  {
   "cell_type": "markdown",
   "metadata": {},
   "source": [
    "# Pedidos"
   ]
  },
  {
   "cell_type": "code",
   "execution_count": 4,
   "metadata": {},
   "outputs": [
    {
     "name": "stdout",
     "output_type": "stream",
     "text": [
      "root\n",
      " |-- n_id_pdd: long (nullable = true)\n",
      " |-- d_dt_eft_pdd: date (nullable = true)\n",
      " |-- d_dt_entr_pdd: timestamp (nullable = true)\n",
      " |-- v_cnl_orig_pdd: string (nullable = true)\n",
      " |-- v_uf_entr_pdd: string (nullable = true)\n",
      " |-- v_lc_ent_pdd: string (nullable = true)\n",
      " |-- n_vlr_tot_pdd: decimal(38,2) (nullable = true)\n",
      "\n",
      "-RECORD 0-----------------------------\n",
      " n_id_pdd       | 1187021679777       \n",
      " d_dt_eft_pdd   | 2023-09-13          \n",
      " d_dt_entr_pdd  | 2023-09-13 21:49:15 \n",
      " v_cnl_orig_pdd | L                   \n",
      " v_uf_entr_pdd  | RS                  \n",
      " v_lc_ent_pdd   | VIAMAO              \n",
      " n_vlr_tot_pdd  | 19.99               \n",
      "only showing top 1 row\n",
      "\n"
     ]
    },
    {
     "data": {
      "text/plain": [
       "\"/* 'Bronze' */\\nSELECT \\n        n_id_pdd,\\n\\td_dt_eft_pdd,\\n\\td_dt_entr_pdd,\\n\\tv_cnl_orig_pdd,\\n\\tv_uf_entr_pdd,\\n\\tv_lc_ent_pdd,\\n\\tn_vlr_tot_pdd \\nFROM pedidos_tmp\\n\""
      ]
     },
     "execution_count": 4,
     "metadata": {},
     "output_type": "execute_result"
    }
   ],
   "source": [
    "\n",
    "# Carregando o dataframe para verificar a estrutura das colunas e tipos de dados\n",
    "dados = spark.read.format(\"parquet\").load(os.path.abspath(r\"C:\\Users\\gustavo.lopes\\Documentos\\GitHub\\desafio_panvel-data_engineer\\datalake\\camada_0_transient\\PEDIDOS\"))\n",
    "\n",
    "dados.printSchema()\n",
    "\n",
    "dados.show(n=1, vertical=True)\n",
    "colunas = ',\\n\\t'.join(dados.columns)\n",
    "f\"\"\"/* 'Bronze' */\n",
    "SELECT \n",
    "        {colunas} \n",
    "FROM pedidos_tmp\n",
    "\"\"\""
   ]
  },
  {
   "cell_type": "code",
   "execution_count": 5,
   "metadata": {},
   "outputs": [
    {
     "name": "stdout",
     "output_type": "stream",
     "text": [
      "+-------------+----------------------+-------------------+-----------+---------+--------------+------------------+\n",
      "|    id_pedido|data_realizacao_pedido|       data_entrega|canal_venda|UF_pedido|cidade_entrega|valor_total_pedido|\n",
      "+-------------+----------------------+-------------------+-----------+---------+--------------+------------------+\n",
      "|1187021679777|            2023-09-13|2023-09-13 21:49:15|       Loja|       RS|        VIAMAO|             19.99|\n",
      "|1187888931657|            2023-09-29|2023-09-29 21:11:38|       Loja|       RS|  PORTO ALEGRE|             36.98|\n",
      "|1187806295857|            2023-09-28|2023-09-28 21:00:10|       Loja|       RS|  PORTO ALEGRE|             29.56|\n",
      "|1187490058337|            2023-09-22|2023-09-22 20:59:02|       Loja|       RS|  PORTO ALEGRE|             37.97|\n",
      "|1186976289657|            2023-09-12|2023-09-12 21:40:09|       Loja|       RS|  PORTO ALEGRE|             39.93|\n",
      "|1187367744477|            2023-09-19|2023-09-19 21:05:09|       Loja|       RS|   SANTA MARIA|             14.89|\n",
      "|1187489749387|            2023-09-22|2023-09-22 21:02:57|       Loja|       RS|  PORTO ALEGRE|             44.97|\n",
      "|1186347530157|            2023-09-01|2023-09-01 21:16:04|       Loja|       RS|        CANELA|             21.75|\n",
      "|1186744280417|            2023-09-08|2023-09-08 21:17:36|       Loja|       RS| CAXIAS DO SUL|             51.48|\n",
      "|1187439836017|            2023-09-21|2023-09-21 21:05:30|       Loja|       RS|    URUGUAIANA|             35.99|\n",
      "|1186315504067|            2023-09-01|2023-09-01 21:19:05|       Loja|       RS|   SANTA MARIA|              9.97|\n",
      "|1186571878177|            2023-09-05|2023-09-05 22:22:53|       Loja|       RS|    URUGUAIANA|             37.58|\n",
      "|1186506325647|            2023-09-04|2023-09-04 21:48:40|       Loja|       RS|        CANOAS|              9.98|\n",
      "|1187439694307|            2023-09-21|2023-09-21 21:08:01|       Loja|       RS|        GUAIBA|             23.97|\n",
      "|1187371253557|            2023-09-19|2023-09-19 20:58:54|       Loja|       RS|  PORTO ALEGRE|             22.47|\n",
      "|1187092744197|            2023-09-14|2023-09-14 21:49:46|       Loja|       RS| NOVO HAMBURGO|            391.94|\n",
      "|1187191044317|            2023-09-16|2023-09-16 21:10:45|       Loja|       RS|  PORTO ALEGRE|             38.97|\n",
      "|1187371202497|            2023-09-19|2023-09-19 21:07:40|       Loja|       RS|CAPAO DA CANOA|             44.35|\n",
      "|1187516368667|            2023-09-22|2023-09-22 21:04:15|       Loja|       RS|  PORTO ALEGRE|             85.64|\n",
      "|1187486534087|            2023-09-21|2023-09-22 21:11:24|       Loja|       RS|  PORTO ALEGRE|              3.79|\n",
      "+-------------+----------------------+-------------------+-----------+---------+--------------+------------------+\n",
      "only showing top 20 rows\n",
      "\n"
     ]
    },
    {
     "data": {
      "text/plain": [
       "\"/* 'Silver' */\\nSELECT CAST(pd.n_id_pdd AS BIGINT) AS id_pedido,\\n       COALESCE(CAST(pd.d_dt_eft_pdd AS DATE), '') AS data_realizacao_pedido,\\n       COALESCE(date_format(pd.d_dt_entr_pdd, 'yyyy-MM-dd HH:mm:ss'), '') AS data_entrega,\\n       CASE\\n           WHEN pd.v_cnl_orig_pdd = 'L' THEN 'Loja'\\n           WHEN pd.v_cnl_orig_pdd = 'A' THEN 'App'\\n           WHEN pd.v_cnl_orig_pdd = 'S' THEN 'Site'\\n       END AS canal_venda,\\n       COALESCE(CAST(pd.v_uf_entr_pdd AS STRING), '') AS UF_pedido,\\n       COALESCE(CAST(pd.v_lc_ent_pdd AS STRING), '') AS cidade_entrega,\\n       CAST(pd.n_vlr_tot_pdd AS DECIMAL(38, 2)) AS valor_total_pedido\\nFROM pedidos_tmp AS pd\""
      ]
     },
     "execution_count": 5,
     "metadata": {},
     "output_type": "execute_result"
    }
   ],
   "source": [
    "# Criando a tabela temporária e realizando a consulta que depois usaremos para transformar a camada raw\n",
    "dados.createOrReplaceTempView(\"pedidos_tmp\")\n",
    "\n",
    "query = formatar_sql(\"\"\"/* 'Silver' */\n",
    "SELECT \n",
    "    CAST(pd.n_id_pdd AS BIGINT) AS id_pedido,\n",
    "    COALESCE(CAST(pd.d_dt_eft_pdd AS DATE), '') AS data_realizacao_pedido,\n",
    "    COALESCE(date_format(pd.d_dt_entr_pdd, 'yyyy-MM-dd HH:mm:ss'), '') AS data_entrega,\n",
    "    CASE \n",
    "        WHEN pd.v_cnl_orig_pdd = 'L' THEN 'Loja'\n",
    "        WHEN pd.v_cnl_orig_pdd = 'A' THEN 'App'\n",
    "        WHEN pd.v_cnl_orig_pdd = 'S' THEN 'Site'\n",
    "    END AS canal_venda,\n",
    "    COALESCE(CAST(pd.v_uf_entr_pdd AS STRING), '') AS UF_pedido,\n",
    "    COALESCE(CAST(pd.v_lc_ent_pdd AS STRING), '') AS cidade_entrega,\n",
    "    CAST(pd.n_vlr_tot_pdd AS DECIMAL(38,2)) AS valor_total_pedido\n",
    "FROM pedidos_tmp as pd\"\"\")\n",
    "\n",
    "spark.sql(query).show()\n",
    "query"
   ]
  },
  {
   "cell_type": "markdown",
   "metadata": {},
   "source": [
    "# Pedidos Vendas"
   ]
  },
  {
   "cell_type": "code",
   "execution_count": 6,
   "metadata": {},
   "outputs": [
    {
     "name": "stdout",
     "output_type": "stream",
     "text": [
      "root\n",
      " |-- n_id_fil: long (nullable = true)\n",
      " |-- n_id_vd_fil: long (nullable = true)\n",
      " |-- n_id_pdd: long (nullable = true)\n",
      "\n",
      "-RECORD 0--------------------\n",
      " n_id_fil    | 2408784       \n",
      " n_id_vd_fil | 34262326131   \n",
      " n_id_pdd    | 1189183932027 \n",
      "only showing top 1 row\n",
      "\n"
     ]
    },
    {
     "data": {
      "text/plain": [
       "\"/* 'Bronze' */\\nSELECT \\n        n_id_fil,\\n\\tn_id_vd_fil,\\n\\tn_id_pdd \\nFROM pedido_venda_tmp\\n\""
      ]
     },
     "execution_count": 6,
     "metadata": {},
     "output_type": "execute_result"
    }
   ],
   "source": [
    "\n",
    "# Carregando o dataframe para verificar a estrutura das colunas e tipos de dados\n",
    "dados = spark.read.format(\"parquet\").load(os.path.abspath(r\"C:\\Users\\gustavo.lopes\\Documentos\\GitHub\\desafio_panvel-data_engineer\\datalake\\camada_0_transient\\PEDIDO_VENDA\"))\n",
    "\n",
    "dados.printSchema()\n",
    "\n",
    "dados.show(n=1, vertical=True)\n",
    "colunas = ',\\n\\t'.join(dados.columns)\n",
    "f\"\"\"/* 'Bronze' */\n",
    "SELECT \n",
    "        {colunas} \n",
    "FROM pedido_venda_tmp\n",
    "\"\"\""
   ]
  },
  {
   "cell_type": "code",
   "execution_count": 7,
   "metadata": {},
   "outputs": [
    {
     "name": "stdout",
     "output_type": "stream",
     "text": [
      "+-------------+---------------+-------------+\n",
      "|codigo_filial|id_venda_filial|    id_pedido|\n",
      "+-------------+---------------+-------------+\n",
      "|      2408784|    34262326131|1189183932027|\n",
      "|       242984|    35434048331|1189596350677|\n",
      "|      2657984|     3474198431|1192614919827|\n",
      "|      2517984|      409543431|1188810414807|\n",
      "|      2457084|     4339980931|1192522099777|\n",
      "|       229684|    35465235531|1188385018407|\n",
      "|      2620184|     3789478231|1187171860557|\n",
      "|      2174984|    35255133331|1186640698547|\n",
      "|      2662184|     3752751431|1188256482257|\n",
      "|       249284|    35437182231|1185665835127|\n",
      "|      2626484|     3573693431|1192236782787|\n",
      "|      2462684|    34129728831|1193157735357|\n",
      "|      2471784|     4054827931|1191233879657|\n",
      "|      2310784|    34374246731|1187244935557|\n",
      "|      2453584|    34547578131|1184629304547|\n",
      "|      2593584|     4082528131|1184834489897|\n",
      "|       236684|    39168868431|1191362606727|\n",
      "|      2454284|    34532390431|1193198429067|\n",
      "|      2480184|     3964413431|1186700409887|\n",
      "|      2362584|     3865283631|1187801635707|\n",
      "+-------------+---------------+-------------+\n",
      "only showing top 20 rows\n",
      "\n"
     ]
    },
    {
     "data": {
      "text/plain": [
       "\"/* 'Silver'*/\\nSELECT CAST(pv.n_id_fil AS BIGINT) AS codigo_filial,\\n       CAST(pv.n_id_vd_fil AS BIGINT) AS id_venda_filial,\\n       CAST(pv.n_id_pdd AS BIGINT) AS id_pedido\\nFROM pedido_venda_tmp AS pv\""
      ]
     },
     "execution_count": 7,
     "metadata": {},
     "output_type": "execute_result"
    }
   ],
   "source": [
    "# Criando a tabela temporária e realizando a consulta que depois usaremos para transformar a camada raw\n",
    "dados.createOrReplaceTempView(\"pedido_venda_tmp\")\n",
    "\n",
    "query = formatar_sql(\"\"\"/* 'Silver'*/\n",
    "SELECT \n",
    "    CAST(pv.n_id_fil AS BIGINT) AS codigo_filial,\n",
    "    CAST(pv.n_id_vd_fil AS BIGINT) AS id_venda_filial,\n",
    "    CAST(pv.n_id_pdd AS BIGINT) AS id_pedido\n",
    "FROM pedido_venda_tmp as pv\"\"\")\n",
    "\n",
    "\n",
    "\n",
    "spark.sql(query).show()\n",
    "query"
   ]
  },
  {
   "cell_type": "markdown",
   "metadata": {},
   "source": [
    "# Itens Vendas"
   ]
  },
  {
   "cell_type": "code",
   "execution_count": 8,
   "metadata": {},
   "outputs": [
    {
     "name": "stdout",
     "output_type": "stream",
     "text": [
      "root\n",
      " |-- n_id_fil: long (nullable = true)\n",
      " |-- n_id_vd_fil: long (nullable = true)\n",
      " |-- n_id_it: long (nullable = true)\n",
      " |-- v_rc_elt: string (nullable = true)\n",
      " |-- v_it_vd_conv: string (nullable = true)\n",
      " |-- n_vlr_pis: decimal(38,2) (nullable = true)\n",
      " |-- n_vlr_vd: decimal(38,2) (nullable = true)\n",
      " |-- n_vlr_desc: decimal(38,2) (nullable = true)\n",
      " |-- n_qtd: decimal(38,4) (nullable = true)\n",
      "\n",
      "-RECORD 0------------------\n",
      " n_id_fil     | 2326184    \n",
      " n_id_vd_fil  | 4104333431 \n",
      " n_id_it      | 433914026  \n",
      " v_rc_elt     | NAO        \n",
      " v_it_vd_conv | NAO        \n",
      " n_vlr_pis    | 0.00       \n",
      " n_vlr_vd     | 38.49      \n",
      " n_vlr_desc   | 8.50       \n",
      " n_qtd        | 1.0000     \n",
      "only showing top 1 row\n",
      "\n"
     ]
    },
    {
     "data": {
      "text/plain": [
       "\"/* 'Bronze' */\\nSELECT \\n        n_id_fil,\\n\\tn_id_vd_fil,\\n\\tn_id_it,\\n\\tv_rc_elt,\\n\\tv_it_vd_conv,\\n\\tn_vlr_pis,\\n\\tn_vlr_vd,\\n\\tn_vlr_desc,\\n\\tn_qtd \\nFROM itens_vendas_tmp\\n\""
      ]
     },
     "execution_count": 8,
     "metadata": {},
     "output_type": "execute_result"
    }
   ],
   "source": [
    "\n",
    "# Carregando o dataframe para verificar a estrutura das colunas e tipos de dados\n",
    "dados = spark.read.format(\"parquet\").load(os.path.abspath(r\"C:\\Users\\gustavo.lopes\\Documentos\\GitHub\\desafio_panvel-data_engineer\\datalake\\camada_0_transient\\ITENS_VENDAS\"))\n",
    "\n",
    "dados.printSchema()\n",
    "\n",
    "dados.show(n=1, vertical=True)\n",
    "colunas = ',\\n\\t'.join(dados.columns)\n",
    "f\"\"\"/* 'Bronze' */\n",
    "SELECT \n",
    "        {colunas} \n",
    "FROM itens_vendas_tmp\n",
    "\"\"\"\n"
   ]
  },
  {
   "cell_type": "code",
   "execution_count": 9,
   "metadata": {},
   "outputs": [
    {
     "name": "stdout",
     "output_type": "stream",
     "text": [
      "+-------------+---------------+-----------------+----------------------+-------------+--------------+----------------+-------------------+----------------+\n",
      "|codigo_filial|id_venda_filial|codigo_item_venda|com_receita_eletronica|tipo_desconto|valor_pis_item|valor_final_item|valor_desconto_item|quantidade_itens|\n",
      "+-------------+---------------+-----------------+----------------------+-------------+--------------+----------------+-------------------+----------------+\n",
      "|      2326184|     4104333431|        433914026|                 false|     Promoção|          0.00|           38.49|               8.50|               1|\n",
      "|       238084|    37050030831|        405284776|                 false| Sem Desconto|          0.14|            8.49|               0.00|               1|\n",
      "|      2439584|     4272478331|        403805896|                 false| Sem Desconto|          0.00|           17.99|               0.00|               1|\n",
      "|      2618784|     3678370531|        502317426|                 false| Sem Desconto|          0.00|            3.10|               0.00|               1|\n",
      "|       253484|    37104903231|        403469456|                 false|     Promoção|          0.00|           17.99|               8.00|               1|\n",
      "|      2433984|    34687630131|        405275806|                 false| Sem Desconto|          0.21|           12.49|               0.00|               1|\n",
      "|       220584|  3467614187631|        403614016|                 false| Sem Desconto|          0.00|            4.49|               0.00|               1|\n",
      "|      2212084|    36067773731|        411572226|                 false| Sem Desconto|          0.00|           34.99|               0.00|               1|\n",
      "|      2180584|    38148468831|         51897066|                 false| Sem Desconto|          0.00|            5.99|               0.00|               1|\n",
      "|       269584|    35988940031|         51972986|                 false| Sem Desconto|          0.00|           14.99|               0.00|               1|\n",
      "|      2326184|     4103817531|         51755756|                 false| Sem Desconto|          0.07|            3.99|               0.00|               1|\n",
      "|      2361184|     3951056131|        443145326|                 false| Sem Desconto|          0.00|           17.49|               0.00|               1|\n",
      "|      2197384|    43170461631|         49001836|                 false| Sem Desconto|          0.00|           15.28|               0.00|               4|\n",
      "|       224784|    38478864831|        403054106|                 false| Sem Desconto|          0.08|            4.99|               0.00|               1|\n",
      "|      2685984|     3418602231|        500354426|                 false|     Promoção|          0.00|           25.98|              10.60|               2|\n",
      "|       277284|    37151822631|        458506126|                 false|     Promoção|          0.00|           22.77|               1.20|               1|\n",
      "|       217784|  3466778242631|        406484026|                 false| Sem Desconto|          0.41|           24.99|               0.00|               1|\n",
      "|      2338084|     4068126931|        433325256|                 false| Sem Desconto|          0.00|           38.42|               0.00|               2|\n",
      "|       252084|    36560120531|        405579876|                 false| Sem Desconto|          0.13|            7.99|               0.00|               1|\n",
      "|      2394784|    34817716131|        403329706|                 false|     Promoção|          0.00|            8.94|               9.00|               6|\n",
      "+-------------+---------------+-----------------+----------------------+-------------+--------------+----------------+-------------------+----------------+\n",
      "only showing top 20 rows\n",
      "\n"
     ]
    },
    {
     "data": {
      "text/plain": [
       "\"/* 'Silver' */\\nSELECT CAST(iv.n_id_fil AS BIGINT) AS codigo_filial,\\n       CAST(iv.n_id_vd_fil AS BIGINT) AS id_venda_filial,\\n       CAST(iv.n_id_it AS BIGINT) AS codigo_item_venda,\\n       CASE\\n           WHEN iv.v_rc_elt = 'SIM' THEN TRUE\\n           ELSE FALSE\\n       END AS com_receita_eletronica,\\n       CASE\\n           WHEN iv.v_it_vd_conv = 'SIM' THEN 'Convênio'\\n           WHEN iv.v_it_vd_conv = 'NAO'\\n                AND iv.n_vlr_desc > 0 THEN 'Promoção'\\n           ELSE 'Sem Desconto'\\n       END AS tipo_desconto,\\n       CAST(iv.n_vlr_pis AS DECIMAL(38, 2)) AS valor_pis_item,\\n       CAST(iv.n_vlr_vd AS DECIMAL(38, 2)) AS valor_final_item,\\n       CAST(iv.n_vlr_desc AS DECIMAL(38, 2)) AS valor_desconto_item,\\n       CAST(iv.n_qtd AS BIGINT) AS quantidade_itens\\nFROM itens_vendas_tmp AS iv\""
      ]
     },
     "execution_count": 9,
     "metadata": {},
     "output_type": "execute_result"
    }
   ],
   "source": [
    "# Criando a tabela temporária e realizando a consulta que depois usaremos para transformar a camada raw\n",
    "dados.createOrReplaceTempView(\"itens_vendas_tmp\")\n",
    "\n",
    "query = formatar_sql(\"\"\"/* 'Silver' */\n",
    "SELECT \n",
    "    CAST(iv.n_id_fil AS BIGINT) AS codigo_filial,\n",
    "    CAST(iv.n_id_vd_fil AS BIGINT) AS id_venda_filial,\n",
    "    CAST(iv.n_id_it AS BIGINT) AS codigo_item_venda,\n",
    "    CASE \n",
    "        WHEN iv.v_rc_elt  = 'SIM' THEN True\n",
    "        ELSE False\n",
    "    END AS com_receita_eletronica,\n",
    "    CASE \n",
    "        WHEN iv.v_it_vd_conv = 'SIM' THEN 'Convênio'\n",
    "        WHEN iv.v_it_vd_conv = 'NAO' AND iv.n_vlr_desc > 0 THEN 'Promoção'\n",
    "        ELSE 'Sem Desconto'\n",
    "    END AS tipo_desconto,\n",
    "    CAST(iv.n_vlr_pis AS DECIMAL(38,2)) AS valor_pis_item,\n",
    "    CAST(iv.n_vlr_vd AS DECIMAL(38,2)) AS valor_final_item,\n",
    "    CAST(iv.n_vlr_desc AS DECIMAL(38,2)) AS valor_desconto_item,\n",
    "    CAST(iv.n_qtd AS BIGINT) AS quantidade_itens\n",
    "FROM itens_vendas_tmp as iv\"\"\")\n",
    "\n",
    "spark.sql(query).show()\n",
    "query"
   ]
  },
  {
   "cell_type": "markdown",
   "metadata": {},
   "source": [
    "# Endereços Clientes"
   ]
  },
  {
   "cell_type": "code",
   "execution_count": 10,
   "metadata": {},
   "outputs": [
    {
     "name": "stdout",
     "output_type": "stream",
     "text": [
      "root\n",
      " |-- v_id_cli: string (nullable = true)\n",
      " |-- n_sq_end: long (nullable = true)\n",
      " |-- d_dt_exc: string (nullable = true)\n",
      " |-- v_lcl: string (nullable = true)\n",
      " |-- v_uf: string (nullable = true)\n",
      "\n",
      "-RECORD 0------------------------\n",
      " v_id_cli | 00D3BFA61A4EB684B1F5 \n",
      " n_sq_end | 7470026              \n",
      " d_dt_exc | null                 \n",
      " v_lcl    | CURITIBA             \n",
      " v_uf     | PR                   \n",
      "only showing top 1 row\n",
      "\n"
     ]
    },
    {
     "data": {
      "text/plain": [
       "\"/* 'Bronze' */\\nSELECT \\n        v_id_cli,\\n\\tn_sq_end,\\n\\td_dt_exc,\\n\\tv_lcl,\\n\\tv_uf \\nFROM enderecos_clientes_tmp\\n\""
      ]
     },
     "execution_count": 10,
     "metadata": {},
     "output_type": "execute_result"
    }
   ],
   "source": [
    "\n",
    "# Carregando o dataframe para verificar a estrutura das colunas e tipos de dados\n",
    "dados = spark.read.format(\"parquet\").load(os.path.abspath(r\"C:\\Users\\gustavo.lopes\\Documentos\\GitHub\\desafio_panvel-data_engineer\\datalake\\camada_0_transient\\ENDERECOS_CLIENTES\"))\n",
    "\n",
    "dados.printSchema()\n",
    "\n",
    "dados.show(n=1, vertical=True)\n",
    "colunas = ',\\n\\t'.join(dados.columns)\n",
    "f\"\"\"/* 'Bronze' */\n",
    "SELECT \n",
    "        {colunas} \n",
    "FROM enderecos_clientes_tmp\n",
    "\"\"\""
   ]
  },
  {
   "cell_type": "code",
   "execution_count": 11,
   "metadata": {},
   "outputs": [
    {
     "name": "stdout",
     "output_type": "stream",
     "text": [
      "+--------------------+--------------------------+----------------------+-----------------+-----------+\n",
      "|      codigo_cliente|sequencia_endereco_cliente|data_exclusao_endereco|  cidade_endereco|UF_endereco|\n",
      "+--------------------+--------------------------+----------------------+-----------------+-----------+\n",
      "|00D3BFA61A4EB684B1F5|                   7470026|                      |         CURITIBA|         PR|\n",
      "|0313852B5434EC0A76D1|                   6772409|                      |         LONDRINA|         PR|\n",
      "|04194EF6A82A8F1C519C|                   6459025|                      |SANTA CRUZ DO SUL|         RS|\n",
      "|01AF764285A24153070B|                   5912571|                      |     PORTO ALEGRE|         RS|\n",
      "|04A52338FAB5D10204AD|                         1|                      |         GRAVATAI|         RS|\n",
      "|04D139F9FE86539E02F5|                         1|                      |         CURITIBA|         PR|\n",
      "|035A054182C4F2CFF563|                         1|                      |         CURITIBA|         PR|\n",
      "|0489FD8213030BE9A86B|                   4404117|   2023-03-17 10:42:23|     PORTO ALEGRE|         RS|\n",
      "|04808AA2CCD1D61D82CB|                   2614487|                      |     PORTO ALEGRE|         RS|\n",
      "|025636ACDAC688833A0D|                         1|                      |          PALHOCA|         SC|\n",
      "|04164C0A709C0E0FAFE9|                   2773777|   2020-08-07 14:55:31|     PORTO ALEGRE|         RS|\n",
      "|03E6C7A7634BFDD2E35E|                   4361570|                      |     PORTO ALEGRE|         RS|\n",
      "|003B7330D29CD1253EB2|                   6241853|                      |  SAPUCAIA DO SUL|         RS|\n",
      "|04954030F34FEBEFD91D|                   1726041|                      |         BLUMENAU|         SC|\n",
      "|0111DD1052427B86B607|                   4490379|                      |     PORTO ALEGRE|         RS|\n",
      "|03AE532F122100591FB7|                         2|                      |      PASSO FUNDO|         RS|\n",
      "|009B687E9A9092CC04C9|                   3720225|   2021-05-29 10:22:13|             BAGE|         RS|\n",
      "|009B687E9A9092CC04C9|                   4562404|   2021-05-29 10:22:28|             BAGE|         RS|\n",
      "|04175E5A2B4654E2B086|                         1|                      |         CURITIBA|         PR|\n",
      "|038D68695612BB24F2E5|                   7442519|   2022-05-12 11:24:09|     PORTO ALEGRE|         RS|\n",
      "+--------------------+--------------------------+----------------------+-----------------+-----------+\n",
      "only showing top 20 rows\n",
      "\n"
     ]
    },
    {
     "data": {
      "text/plain": [
       "\"/* 'Silver' */\\nSELECT CAST(ec.v_id_cli AS STRING) AS codigo_cliente,\\n       CAST(ec.n_sq_end AS BIGINT) AS sequencia_endereco_cliente,\\n       COALESCE(date_format(ec.d_dt_exc, 'yyyy-MM-dd HH:mm:ss'), '') AS data_exclusao_endereco,\\n       CAST(ec.v_lcl AS STRING) AS cidade_endereco,\\n       CAST(ec.v_uf AS STRING) AS UF_endereco\\nFROM enderecos_clientes_tmp AS ec\""
      ]
     },
     "execution_count": 11,
     "metadata": {},
     "output_type": "execute_result"
    }
   ],
   "source": [
    "# Criando a tabela temporária e realizando a consulta que depois usaremos para transformar a camada raw\n",
    "dados.createOrReplaceTempView(\"enderecos_clientes_tmp\")\n",
    "\n",
    "query = formatar_sql(\"\"\"/* 'Silver' */\n",
    "SELECT \n",
    "    CAST(ec.v_id_cli AS STRING) AS codigo_cliente,\n",
    "    CAST(ec.n_sq_end AS BIGINT) AS sequencia_endereco_cliente,\n",
    "    COALESCE(date_format(ec.d_dt_exc, 'yyyy-MM-dd HH:mm:ss'), '') AS data_exclusao_endereco,\n",
    "    CAST(ec.v_lcl AS STRING) AS cidade_endereco,\n",
    "    CAST(ec.v_uf AS STRING) AS UF_endereco\n",
    "FROM enderecos_clientes_tmp as ec\"\"\")\n",
    "\n",
    "spark.sql(query).show()\n",
    "query"
   ]
  },
  {
   "cell_type": "markdown",
   "metadata": {},
   "source": [
    "# Clientes Opt"
   ]
  },
  {
   "cell_type": "code",
   "execution_count": 12,
   "metadata": {},
   "outputs": [
    {
     "name": "stdout",
     "output_type": "stream",
     "text": [
      "root\n",
      " |-- b_call: boolean (nullable = true)\n",
      " |-- b_email: boolean (nullable = true)\n",
      " |-- b_push: boolean (nullable = true)\n",
      " |-- b_sms: boolean (nullable = true)\n",
      " |-- v_id_cli: string (nullable = true)\n",
      "\n",
      "-RECORD 0------------------------\n",
      " b_call   | true                 \n",
      " b_email  | true                 \n",
      " b_push   | true                 \n",
      " b_sms    | true                 \n",
      " v_id_cli | 010FC87179A2C7940661 \n",
      "-RECORD 1------------------------\n",
      " b_call   | null                 \n",
      " b_email  | true                 \n",
      " b_push   | null                 \n",
      " b_sms    | true                 \n",
      " v_id_cli | 04B2DB249A9623A2371B \n",
      "only showing top 2 rows\n",
      "\n"
     ]
    },
    {
     "data": {
      "text/plain": [
       "\"/* 'Bronze' */\\nSELECT \\n        b_call,\\n\\tb_email,\\n\\tb_push,\\n\\tb_sms,\\n\\tv_id_cli \\nFROM clientes_opt_tmp\""
      ]
     },
     "execution_count": 12,
     "metadata": {},
     "output_type": "execute_result"
    }
   ],
   "source": [
    "\n",
    "\n",
    "schema = StructType([\n",
    "    StructField(\"v_id_cli\", StringType(), True),\n",
    "    StructField(\"b_push\", StringType(), True),\n",
    "    StructField(\"b_sms\", StringType(), True),\n",
    "    StructField(\"b_email\", StringType(), True),\n",
    "    StructField(\"b_call\", StringType(), True)\n",
    "])\n",
    "\n",
    "# Carregando o dataframe para verificar a estrutura das colunas e tipos de dados\n",
    "dados = spark.read.option(\"multiline\",\"true\").format(\"json\").load(os.path.abspath(r\"C:\\Users\\gustavo.lopes\\Documentos\\GitHub\\desafio_panvel-data_engineer\\datalake\\camada_0_transient\\CLIENTES_OPT\"))\n",
    "\n",
    "dados.printSchema()\n",
    "\n",
    "dados.show(n=2, vertical=True)\n",
    "colunas = ',\\n\\t'.join(dados.columns)\n",
    "f\"\"\"/* 'Bronze' */\n",
    "SELECT \n",
    "        {colunas} \n",
    "FROM clientes_opt_tmp\"\"\"\n"
   ]
  },
  {
   "cell_type": "code",
   "execution_count": 13,
   "metadata": {},
   "outputs": [
    {
     "name": "stdout",
     "output_type": "stream",
     "text": [
      "+--------------------+-------------------------+------------------------+--------------------------+----------------------------+\n",
      "|      codigo_cliente|autoriza_notificacao_push|autoriza_notificacao_sms|autoriza_notificacao_email|autoriza_notificacao_ligacao|\n",
      "+--------------------+-------------------------+------------------------+--------------------------+----------------------------+\n",
      "|010FC87179A2C7940661|                      SIM|                     SIM|                       SIM|                         SIM|\n",
      "|04B2DB249A9623A2371B|                         |                     SIM|                       SIM|                            |\n",
      "|0248D7A8AA7D752A2AF9|                      NÃO|                     SIM|                       SIM|                         SIM|\n",
      "|02ABD1DDB59E705FCE49|                      NÃO|                     NÃO|                       NÃO|                         NÃO|\n",
      "|050C08C7789F8BF18F10|                         |                        |                       SIM|                            |\n",
      "|044D8241C0BA9EB8A2BD|                         |                        |                       SIM|                            |\n",
      "|0236AE95865254140BEC|                      NÃO|                     NÃO|                       NÃO|                         NÃO|\n",
      "|04E8FC308B3A1CC4CC90|                      SIM|                        |                       SIM|                            |\n",
      "|027B23C4BD585D29DBA9|                         |                     NÃO|                          |                            |\n",
      "|016BC87B3EFE0230E53A|                      NÃO|                     NÃO|                       NÃO|                         NÃO|\n",
      "|01631A90EAF2477D949E|                      NÃO|                     NÃO|                       SIM|                         NÃO|\n",
      "|04889DF12594121513BB|                      SIM|                        |                          |                            |\n",
      "|037999CC78E16B39B86D|                      NÃO|                     SIM|                          |                            |\n",
      "|006DB98427A7777F6633|                      SIM|                     SIM|                       SIM|                         SIM|\n",
      "|00AB23E7BEC55559643B|                      SIM|                     SIM|                       SIM|                         SIM|\n",
      "|042510CD68CC179D619D|                      NÃO|                     NÃO|                       SIM|                         NÃO|\n",
      "|00473E5A6B9C720A67BB|                         |                     NÃO|                       SIM|                            |\n",
      "|022E478ED113550CD685|                         |                        |                       SIM|                            |\n",
      "|0122A2D0F73968122F4D|                      NÃO|                     SIM|                       NÃO|                         NÃO|\n",
      "|01C9E1F9DB8DE5E9EBE2|                         |                        |                       SIM|                            |\n",
      "+--------------------+-------------------------+------------------------+--------------------------+----------------------------+\n",
      "only showing top 20 rows\n",
      "\n"
     ]
    },
    {
     "data": {
      "text/plain": [
       "\"/* 'Silver' */\\nSELECT CAST(co.v_id_cli AS STRING) AS codigo_cliente,\\n       CASE\\n           WHEN co.b_push = TRUE THEN 'SIM'\\n           WHEN co.b_push = FALSE THEN 'NÃO'\\n           ELSE ''\\n       END AS autoriza_notificacao_push,\\n       CASE\\n           WHEN co.b_sms = TRUE THEN 'SIM'\\n           WHEN co.b_sms = FALSE THEN 'NÃO'\\n           ELSE ''\\n       END AS autoriza_notificacao_sms,\\n       CASE\\n           WHEN co.b_email = TRUE THEN 'SIM'\\n           WHEN co.b_email = FALSE THEN 'NÃO'\\n           ELSE ''\\n       END AS autoriza_notificacao_email,\\n       CASE\\n           WHEN co.b_call = TRUE THEN 'SIM'\\n           WHEN co.b_call = FALSE THEN 'NÃO'\\n           ELSE ''\\n       END AS autoriza_notificacao_ligacao\\nFROM clientes_opt_tmp AS co\""
      ]
     },
     "execution_count": 13,
     "metadata": {},
     "output_type": "execute_result"
    }
   ],
   "source": [
    "# Criando a tabela temporária e realizando a consulta que depois usaremos para transformar a camada raw\n",
    "dados.createOrReplaceTempView(\"clientes_opt_tmp\")\n",
    "\n",
    "query = formatar_sql(\"\"\"/* 'Silver' */\n",
    "SELECT \n",
    "    CAST(co.v_id_cli AS STRING) AS codigo_cliente,\n",
    "    CASE \n",
    "        WHEN co.b_push  = True THEN 'SIM'\n",
    "        WHEN co.b_push  = False THEN 'NÃO'\n",
    "        ELSE ''\n",
    "    END AS autoriza_notificacao_push,\n",
    "    CASE \n",
    "        WHEN co.b_sms  = True THEN 'SIM'\n",
    "        WHEN co.b_sms  = False THEN 'NÃO'\n",
    "        ELSE ''\n",
    "    END AS autoriza_notificacao_sms,\n",
    "    CASE \n",
    "        WHEN co.b_email  = True THEN 'SIM'\n",
    "        WHEN co.b_email  = False THEN 'NÃO'\n",
    "        ELSE ''\n",
    "    END AS autoriza_notificacao_email,\n",
    "    CASE \n",
    "        WHEN co.b_call  = True THEN 'SIM'\n",
    "        WHEN co.b_call  = False THEN 'NÃO'\n",
    "        ELSE ''\n",
    "    END AS autoriza_notificacao_ligacao\n",
    "FROM clientes_opt_tmp as co\"\"\")\n",
    "\n",
    "spark.sql(query).show()\n",
    "query"
   ]
  },
  {
   "cell_type": "markdown",
   "metadata": {},
   "source": [
    "# Clientes"
   ]
  },
  {
   "cell_type": "code",
   "execution_count": 14,
   "metadata": {},
   "outputs": [
    {
     "name": "stdout",
     "output_type": "stream",
     "text": [
      "root\n",
      " |-- v_id_cli: string (nullable = true)\n",
      " |-- d_dt_nasc: date (nullable = true)\n",
      " |-- v_sx_cli: string (nullable = true)\n",
      " |-- n_est_cvl: string (nullable = true)\n",
      "\n",
      "-RECORD 0-------------------------\n",
      " v_id_cli  | 0000009DB36F622B7639 \n",
      " d_dt_nasc | 2003-11-14           \n",
      " v_sx_cli  | F                    \n",
      " n_est_cvl | null                 \n",
      "only showing top 1 row\n",
      "\n"
     ]
    },
    {
     "data": {
      "text/plain": [
       "\"/* 'Bronze' */\\nSELECT \\n        v_id_cli,\\n\\td_dt_nasc,\\n\\tv_sx_cli,\\n\\tn_est_cvl \\nFROM clientes_tmp\\n\""
      ]
     },
     "execution_count": 14,
     "metadata": {},
     "output_type": "execute_result"
    }
   ],
   "source": [
    "\n",
    "# Carregando o dataframe para verificar a estrutura das colunas e tipos de dados\n",
    "dados = spark.read.format(\"parquet\").load(os.path.abspath(os.path.join(os.getcwd(), \"datalake/camada_0_transient/CLIENTES\")))\n",
    "\n",
    "dados.printSchema()\n",
    "\n",
    "dados.show(n=1, vertical=True)\n",
    "colunas = ',\\n\\t'.join(dados.columns)\n",
    "f\"\"\"/* 'Bronze' */\n",
    "SELECT \n",
    "        {colunas} \n",
    "FROM clientes_tmp\n",
    "\"\"\"\n"
   ]
  },
  {
   "cell_type": "code",
   "execution_count": 15,
   "metadata": {},
   "outputs": [
    {
     "name": "stdout",
     "output_type": "stream",
     "text": [
      "+--------------------+-----------------------+------------------------+--------------------+\n",
      "|      codigo_cliente|data_nascimento_cliente|genero_biologico_cliente|estado_civil_cliente|\n",
      "+--------------------+-----------------------+------------------------+--------------------+\n",
      "|0000009DB36F622B7639|             2003-11-14|                Feminino|                    |\n",
      "|000000F51C15031D708E|             2008-03-23|                Feminino|                    |\n",
      "|00000F54BE2BBF0E7B13|             1986-02-24|                Feminino|                    |\n",
      "|000013E1FB44D9A9E50F|             1984-12-13|               Masculino|                    |\n",
      "|00001522AD94645C7688|             1992-11-10|                Feminino|              Casado|\n",
      "|0000161185110EE1BBE5|             1975-12-27|                Feminino|                    |\n",
      "|0000269BBD1888477D56|             1961-10-25|               Masculino|                    |\n",
      "|0000289F7EF0375B679D|             1983-11-05|                Feminino|            Solteiro|\n",
      "|00002A10FB7B5E5CB107|             1991-08-19|               Masculino|                    |\n",
      "|00002F84FF8B063A952C|             1975-06-13|                Feminino|                    |\n",
      "|000033354ABAAD3F2FA8|             1964-01-01|                Feminino|            Solteiro|\n",
      "|00003490C16D52FEB4C2|             2004-03-20|                Feminino|                    |\n",
      "|000040FC122DB8AEEF51|             1982-04-06|                Feminino|                    |\n",
      "|000042FA835BDA98ACCE|             1965-05-03|               Masculino|              Casado|\n",
      "|000046B0542EFC2E550A|             1990-06-02|                Feminino|            Solteiro|\n",
      "|00004A80EE1AE5324A9E|             1946-05-14|                        |                    |\n",
      "|00004B9802657262B995|             1996-03-06|                        |                    |\n",
      "|00004CAACD07633F2C95|             1978-11-26|                Feminino|                    |\n",
      "|0000524920EA26B08218|             1999-09-14|                        |                    |\n",
      "|00005651B2086081178C|             1961-06-19|                Feminino|                    |\n",
      "+--------------------+-----------------------+------------------------+--------------------+\n",
      "only showing top 20 rows\n",
      "\n"
     ]
    },
    {
     "data": {
      "text/plain": [
       "\"/* 'Silver' */\\nSELECT CAST(c.v_id_cli AS STRING) AS codigo_cliente,\\n       COALESCE(CAST(c.d_dt_nasc AS DATE), '') AS data_nascimento_cliente,\\n       CASE\\n           WHEN c.v_sx_cli = 'F' THEN 'Feminino'\\n           WHEN c.v_sx_cli = 'M' THEN 'Masculino'\\n           ELSE ''\\n       END AS genero_biologico_cliente,\\n       CASE\\n           WHEN c.n_est_cvl = 1 THEN 'Solteiro'\\n           WHEN c.n_est_cvl = 2 THEN 'Casado'\\n           WHEN c.n_est_cvl = 3 THEN 'Viúvo'\\n           WHEN c.n_est_cvl = 4 THEN 'Desquitado'\\n           WHEN c.n_est_cvl = 5 THEN 'Divorciado'\\n           WHEN c.n_est_cvl = 6 THEN 'Outros'\\n           ELSE ''\\n       END AS estado_civil_cliente\\nFROM clientes_tmp AS c\""
      ]
     },
     "execution_count": 15,
     "metadata": {},
     "output_type": "execute_result"
    }
   ],
   "source": [
    "# Criando a tabela temporária e realizando a consulta que depois usaremos para transformar a camada raw\n",
    "dados.createOrReplaceTempView(\"clientes_tmp\")\n",
    "\n",
    "query = formatar_sql(\"\"\"/* 'Silver' */\n",
    "SELECT \n",
    "    CAST(c.v_id_cli AS STRING) AS codigo_cliente,\n",
    "    COALESCE(CAST(c.d_dt_nasc AS DATE), '') AS data_nascimento_cliente,\n",
    "    CASE \n",
    "        WHEN c.v_sx_cli  = 'F' THEN 'Feminino'\n",
    "        WHEN c.v_sx_cli  = 'M' THEN 'Masculino'\n",
    "        ELSE '' \n",
    "    END AS genero_biologico_cliente,\n",
    "    CASE \n",
    "        WHEN c.n_est_cvl  = 1 THEN 'Solteiro'\n",
    "        WHEN c.n_est_cvl  = 2 THEN 'Casado'\n",
    "        WHEN c.n_est_cvl  = 3 THEN 'Viúvo'\n",
    "        WHEN c.n_est_cvl  = 4 THEN 'Desquitado'\n",
    "        WHEN c.n_est_cvl  = 5 THEN 'Divorciado'\n",
    "        WHEN c.n_est_cvl  = 6 THEN 'Outros'\n",
    "        ELSE ''\n",
    "    END AS estado_civil_cliente\n",
    "FROM clientes_tmp as c\"\"\")\n",
    "spark.sql(query).show()\n",
    "query"
   ]
  },
  {
   "cell_type": "code",
   "execution_count": 16,
   "metadata": {},
   "outputs": [
    {
     "data": {
      "text/plain": [
       "\" -- 'Tabela Endereços Clientes parquet'\\nSELECT \\n    CAST(c.v_id_cli AS STRING) AS codigo_cliente,\\n    COALESCE(CAST(c.d_dt_nasc AS DATE), '') AS data_nascimento_cliente,\\n    CASE \\n        WHEN c.v_sx_cli  = 'F' THEN 'Feminino'\\n        WHEN c.v_sx_cli  = 'M' THEN 'Masculino'\\n        ELSE '' \\n    END AS genero_biologico_cliente,\\n    CASE \\n        WHEN c.n_est_cvl  = 1 THEN 'Solteiro'\\n        WHEN c.n_est_cvl  = 2 THEN 'Casado'\\n        WHEN c.n_est_cvl  = 3 THEN 'Viúvo'\\n        WHEN c.n_est_cvl  = 4 THEN 'Desquitado'\\n        WHEN c.n_est_cvl  = 5 THEN 'Divorciado'\\n        WHEN c.n_est_cvl  = 6 THEN 'Outros'\\n        ELSE ''\\n    END AS estado_civil_cliente\\nFROM clientes_tmp as c\""
      ]
     },
     "execution_count": 16,
     "metadata": {},
     "output_type": "execute_result"
    }
   ],
   "source": [
    "\"\"\" -- 'Tabela Endereços Clientes parquet'\n",
    "SELECT \n",
    "    CAST(c.v_id_cli AS STRING) AS codigo_cliente,\n",
    "    COALESCE(CAST(c.d_dt_nasc AS DATE), '') AS data_nascimento_cliente,\n",
    "    CASE \n",
    "        WHEN c.v_sx_cli  = 'F' THEN 'Feminino'\n",
    "        WHEN c.v_sx_cli  = 'M' THEN 'Masculino'\n",
    "        ELSE '' \n",
    "    END AS genero_biologico_cliente,\n",
    "    CASE \n",
    "        WHEN c.n_est_cvl  = 1 THEN 'Solteiro'\n",
    "        WHEN c.n_est_cvl  = 2 THEN 'Casado'\n",
    "        WHEN c.n_est_cvl  = 3 THEN 'Viúvo'\n",
    "        WHEN c.n_est_cvl  = 4 THEN 'Desquitado'\n",
    "        WHEN c.n_est_cvl  = 5 THEN 'Divorciado'\n",
    "        WHEN c.n_est_cvl  = 6 THEN 'Outros'\n",
    "        ELSE ''\n",
    "    END AS estado_civil_cliente\n",
    "FROM clientes_tmp as c\"\"\""
   ]
  },
  {
   "cell_type": "code",
   "execution_count": 17,
   "metadata": {},
   "outputs": [
    {
     "data": {
      "text/plain": [
       "\" /* Gold 'Vendas' */\\nSELECT \\n    v.codigo_filial AS codifo_filial,\\n    v.id_venda_filial AS codigo_cupom_venda,\\n    v.data_emissao AS data_emissao,\\n    iv.codigo_item_venda AS codigo_item,\\n    iv.valor_final_item AS valor_unitario,\\n    iv.quantidade_itens AS quantidade,\\n    v.codigo_cliente AS codigo_cliente,\\n    iv.tipo_desconto AS tipo_desconto,\\n    p.canal_venda AS canal_venda\\nFROM vendas AS v\\nINNER JOIN pedido_venda AS pv ON CONCAT(CAST(pv.codigo_filial AS STRING), CAST(pv.id_venda_filial AS STRING)) = CONCAT(CAST(v.codigo_filial AS STRING), CAST(v.id_venda_filial AS STRING))\\nINNER JOIN itens_vendas AS iv ON CONCAT(CAST(iv.codigo_filial AS STRING), CAST(iv.id_venda_filial)) = CONCAT(CAST(v.codigo_filial AS STRING), CAST(v.id_venda_filial AS STRING))\\nINNER JOIN pedidos AS p ON p.id_pedido = pv.id_pedido\\n\""
      ]
     },
     "execution_count": 17,
     "metadata": {},
     "output_type": "execute_result"
    }
   ],
   "source": [
    "\"\"\" /* Gold 'Vendas' */\n",
    "SELECT \n",
    "    v.codigo_filial AS codifo_filial,\n",
    "    v.id_venda_filial AS codigo_cupom_venda,\n",
    "    v.data_emissao AS data_emissao,\n",
    "    iv.codigo_item_venda AS codigo_item,\n",
    "    iv.valor_final_item AS valor_unitario,\n",
    "    iv.quantidade_itens AS quantidade,\n",
    "    v.codigo_cliente AS codigo_cliente,\n",
    "    iv.tipo_desconto AS tipo_desconto,\n",
    "    p.canal_venda AS canal_venda\n",
    "FROM vendas AS v\n",
    "INNER JOIN pedido_venda AS pv ON CONCAT(CAST(pv.codigo_filial AS STRING), CAST(pv.id_venda_filial AS STRING)) = CONCAT(CAST(v.codigo_filial AS STRING), CAST(v.id_venda_filial AS STRING))\n",
    "INNER JOIN itens_vendas AS iv ON CONCAT(CAST(iv.codigo_filial AS STRING), CAST(iv.id_venda_filial)) = CONCAT(CAST(v.codigo_filial AS STRING), CAST(v.id_venda_filial AS STRING))\n",
    "INNER JOIN pedidos AS p ON p.id_pedido = pv.id_pedido\n",
    "\"\"\""
   ]
  },
  {
   "cell_type": "code",
   "execution_count": 18,
   "metadata": {},
   "outputs": [
    {
     "data": {
      "text/plain": [
       "\"/* Gold 'Clientes' */\\nSELECT\\n    c.codigo_cliente AS codigo_cliente,\\n    c.data_nascimento_cliente AS data_nascimento,\\n    datediff(current_date(), CAST(data_nascimento_cliente AS DATE)) AS idade,\\n    c.genero_biologico_cliente AS sexo,\\n    c.UF_endereco AS uf,\\n    ec.cidade_endereco AS cidade,\\n    c.estado_civil_cliente AS estado_civil,\\n    co.autoriza_notificacao_ligacao AS flag_lgpd_call,\\n    co.autoriza_notificacao_sms AS flag_lgpd_sms,\\n    co.autoriza_notificacao_email AS flag_lgpd_email,\\n    co.autoriza_notificacao_push AS flag_lgpd_push\\nFROM clientes AS c\\nINNER JOIN clientes_opt AS co ON co.codigo_cliente = c.codigo_cliente\\nINNER JOIN enderecos_clientes AS ec ON ec.codigo_cliente = c.codigo_cliente\""
      ]
     },
     "execution_count": 18,
     "metadata": {},
     "output_type": "execute_result"
    }
   ],
   "source": [
    "\"\"\"/* Gold 'Clientes' */\n",
    "SELECT\n",
    "    c.codigo_cliente AS codigo_cliente,\n",
    "    c.data_nascimento_cliente AS data_nascimento,\n",
    "    datediff(current_date(), CAST(data_nascimento_cliente AS DATE)) AS idade,\n",
    "    c.genero_biologico_cliente AS sexo,\n",
    "    c.UF_endereco AS uf,\n",
    "    ec.cidade_endereco AS cidade,\n",
    "    c.estado_civil_cliente AS estado_civil,\n",
    "    co.autoriza_notificacao_ligacao AS flag_lgpd_call,\n",
    "    co.autoriza_notificacao_sms AS flag_lgpd_sms,\n",
    "    co.autoriza_notificacao_email AS flag_lgpd_email,\n",
    "    co.autoriza_notificacao_push AS flag_lgpd_push\n",
    "FROM clientes AS c\n",
    "INNER JOIN clientes_opt AS co ON co.codigo_cliente = c.codigo_cliente\n",
    "INNER JOIN enderecos_clientes AS ec ON ec.codigo_cliente = c.codigo_cliente\"\"\""
   ]
  }
 ],
 "metadata": {
  "kernelspec": {
   "display_name": "desafio_panvel-data_engineer-pE6NpJI7",
   "language": "python",
   "name": "python3"
  },
  "language_info": {
   "codemirror_mode": {
    "name": "ipython",
    "version": 3
   },
   "file_extension": ".py",
   "mimetype": "text/x-python",
   "name": "python",
   "nbconvert_exporter": "python",
   "pygments_lexer": "ipython3",
   "version": "3.10.10"
  }
 },
 "nbformat": 4,
 "nbformat_minor": 2
}

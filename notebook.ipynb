{
 "cells": [
  {
   "cell_type": "code",
   "execution_count": 2,
   "metadata": {},
   "outputs": [
    {
     "name": "stdout",
     "output_type": "stream",
     "text": [
      "WebUI SparkJobs: http://BHS-NOTE188:4040\n"
     ]
    },
    {
     "data": {
      "text/html": [
       "\n",
       "            <div>\n",
       "                <p><b>SparkSession - in-memory</b></p>\n",
       "                \n",
       "        <div>\n",
       "            <p><b>SparkContext</b></p>\n",
       "\n",
       "            <p><a href=\"http://BHS-NOTE188:4040\">Spark UI</a></p>\n",
       "\n",
       "            <dl>\n",
       "              <dt>Version</dt>\n",
       "                <dd><code>v3.5.0</code></dd>\n",
       "              <dt>Master</dt>\n",
       "                <dd><code>local[*]</code></dd>\n",
       "              <dt>AppName</dt>\n",
       "                <dd><code>jobGPanvel</code></dd>\n",
       "            </dl>\n",
       "        </div>\n",
       "        \n",
       "            </div>\n",
       "        "
      ],
      "text/plain": [
       "<pyspark.sql.session.SparkSession at 0x18be3af3f10>"
      ]
     },
     "execution_count": 2,
     "metadata": {},
     "output_type": "execute_result"
    }
   ],
   "source": [
    "from data_processing import Sparkinit\n",
    "from data_setup.configuracoes import formatar_sql\n",
    "from pyspark.sql.types import StructType, StructField, TimestampType, LongType, StringType, DecimalType, BinaryType\n",
    "spark_start = Sparkinit()\n",
    "\n",
    "spark = spark_start.buscar_sessao_spark()\n",
    "\n",
    "print(f\"WebUI SparkJobs: {spark.sparkContext.uiWebUrl}\")\n",
    "spark.getActiveSession()\n"
   ]
  },
  {
   "cell_type": "markdown",
   "metadata": {},
   "source": [
    "# Vendas"
   ]
  },
  {
   "cell_type": "code",
   "execution_count": 5,
   "metadata": {},
   "outputs": [
    {
     "name": "stdout",
     "output_type": "stream",
     "text": [
      "root\n",
      " |-- d_dt_vd: timestamp (nullable = true)\n",
      " |-- n_id_fil: long (nullable = true)\n",
      " |-- n_id_vd_fil: long (nullable = true)\n",
      " |-- v_cli_cod: string (nullable = true)\n",
      " |-- n_vlr_tot_vd: decimal(18,6) (nullable = true)\n",
      " |-- n_vlr_tot_desc: decimal(14,4) (nullable = true)\n",
      " |-- v_cpn_eml: string (nullable = true)\n",
      " |-- tp_pgt: string (nullable = true)\n",
      "\n",
      "-RECORD 0------------------------------\n",
      " d_dt_vd        | 2023-10-12 21:00:00  \n",
      " n_id_fil       | 2356284              \n",
      " n_id_vd_fil    | 34366442231          \n",
      " v_cli_cod      | 016E6FCC4F98832719BC \n",
      " n_vlr_tot_vd   | 55.960000            \n",
      " n_vlr_tot_desc | 13.9900              \n",
      " v_cpn_eml      | NAO                  \n",
      " tp_pgt         | A VISTA              \n",
      "only showing top 1 row\n",
      "\n"
     ]
    },
    {
     "data": {
      "text/plain": [
       "['d_dt_vd',\n",
       " 'n_id_fil',\n",
       " 'n_id_vd_fil',\n",
       " 'v_cli_cod',\n",
       " 'n_vlr_tot_vd',\n",
       " 'n_vlr_tot_desc',\n",
       " 'v_cpn_eml',\n",
       " 'tp_pgt']"
      ]
     },
     "execution_count": 5,
     "metadata": {},
     "output_type": "execute_result"
    }
   ],
   "source": [
    "import os\n",
    "# Carregando o dataframe para verificar a estrutura das colunas e tipos de dados\n",
    "dados = spark.read.format(\"parquet\").load(os.path.abspath(r\"C:\\Users\\gustavo.lopes\\Documentos\\GitHub\\desafio_panvel-data_engineer\\datalake\\transient\\VENDAS\"))\n",
    "\n",
    "dados.printSchema()\n",
    "\n",
    "dados.show(n=1, vertical=True)\n",
    "dados.columns"
   ]
  },
  {
   "cell_type": "code",
   "execution_count": 6,
   "metadata": {},
   "outputs": [
    {
     "name": "stdout",
     "output_type": "stream",
     "text": [
      "+-------------------+-------------+---------------+--------------------+-----------------+--------------------+-------------+--------------+\n",
      "|       data_emissao|codigo_filial|id_venda_filial|      codigo_cliente|valor_total_venda|valor_total_desconto|enviado_email|tipo_pagamento|\n",
      "+-------------------+-------------+---------------+--------------------+-----------------+--------------------+-------------+--------------+\n",
      "|2023-10-12 21:00:00|      2356284|    34366442231|016E6FCC4F98832719BC|            55.96|               13.99|        false|       A VISTA|\n",
      "|2023-10-12 21:00:00|      2221184|    35550863931|035D148EADC74B6C6D2F|            31.48|               25.21|        false|              |\n",
      "|2023-10-27 21:00:00|      2188984|    37392732531|030C1011214A3317E850|             6.49|               13.14|        false|       A VISTA|\n",
      "|2023-10-08 21:00:00|      2608284|     3672652731|04710AFAF1FD9C48EBC3|            52.99|               40.27|        false|              |\n",
      "|2023-10-09 21:00:00|       238084|    37059405031|028DBA5BBB05DDF47E4C|            18.54|                8.38|        false|       A VISTA|\n",
      "|2023-10-23 21:00:00|      2687384|      403806931|012F0A4B6592C311F2ED|            31.90|                5.09|         true|              |\n",
      "|2023-10-17 21:00:00|      2617384|     4392793031|0316E487B4F1B6831BA3|           655.26|              259.95|        false|       A VISTA|\n",
      "|2023-10-05 21:00:00|      2352784|     3967276731|052A34441AD2AE1DFD94|            36.98|                0.00|        false|              |\n",
      "|2023-10-29 21:00:00|      2642584|     3422446731|001EC0D3A64CF4F6C941|            93.47|               45.63|        false|       A VISTA|\n",
      "|2023-10-25 21:00:00|      2620184|     3808200231|03755F35E240B8451322|            70.92|               18.91|        false|              |\n",
      "|2023-10-19 21:00:00|      2198784|    35494168831|0516882260A1031D8719|            27.98|                0.00|         true|              |\n",
      "|2023-10-11 21:00:00|      2186184|    36834033731|028D5FE319C8C62D4BFC|            17.98|                1.56|        false|       A VISTA|\n",
      "|2023-10-21 21:00:00|      2631384|     3541135631|03A4F193268E48C0D124|            47.02|                5.13|         true|       A VISTA|\n",
      "|2023-10-29 21:00:00|      2367484|     4267716431|05191F65ECBA674435B7|             7.98|               36.68|        false|              |\n",
      "|2023-10-08 21:00:00|       259084|    35445273831|009ED5A72E6053182284|           147.93|               46.00|        false|              |\n",
      "|2023-10-22 21:00:00|      2198784|    35494845331|0477E33A9B918C7769EF|            87.85|                0.50|        false|       A VISTA|\n",
      "|2023-10-30 21:00:00|       275884|    36185562831|024DCAF27751A0A07A08|            44.69|                2.51|        false|       A VISTA|\n",
      "|2023-10-18 21:00:00|      2188284|    36436975531|04D97DB0EC3122A68972|            26.39|               15.29|        false|       A VISTA|\n",
      "|2023-10-19 21:00:00|      2440984|     4398824331|011016FEF0EE6346E786|            83.91|               25.78|         true|       A VISTA|\n",
      "|2023-10-22 21:00:00|      2648884|     3497829731|0194D2BC60AF2468C836|            40.45|                9.45|        false|       A PRAZO|\n",
      "+-------------------+-------------+---------------+--------------------+-----------------+--------------------+-------------+--------------+\n",
      "only showing top 20 rows\n",
      "\n"
     ]
    }
   ],
   "source": [
    "# Criando a tabela temporária e realizando a consulta que depois usaremos para transformar a camada raw\n",
    "dados.createOrReplaceTempView(\"vendas_tmp\")\n",
    "\n",
    "query = formatar_sql(\"\"\"SELECT \n",
    "    COALESCE(date_format(vt.d_dt_vd, 'yyyy-MM-dd HH:mm:ss'), NULL) AS data_emissao,\n",
    "    CAST(vt.n_id_fil AS BIGINT) AS codigo_filial,\n",
    "    CAST(vt.n_id_vd_fil AS BIGINT) AS id_venda_filial,\n",
    "    COALESCE(CAST(vt.v_cli_cod AS STRING), '') AS codigo_cliente,\n",
    "    CAST(vt.n_vlr_tot_vd AS DECIMAL(38, 2)) AS valor_total_venda,\n",
    "    CAST(vt.n_vlr_tot_desc AS DECIMAL(38, 2)) AS valor_total_desconto,\n",
    "    CASE \n",
    "        WHEN vt.v_cpn_eml  = 'SIM' THEN True\n",
    "        ELSE False\n",
    "    END AS enviado_email,\n",
    "    COALESCE(CAST(vt.tp_pgt AS STRING), '') AS tipo_pagamento\n",
    "FROM vendas_tmp as vt\"\"\")\n",
    "\n",
    "spark.sql(query).show()"
   ]
  },
  {
   "cell_type": "markdown",
   "metadata": {},
   "source": [
    "# Pedidos"
   ]
  },
  {
   "cell_type": "code",
   "execution_count": 11,
   "metadata": {},
   "outputs": [
    {
     "name": "stdout",
     "output_type": "stream",
     "text": [
      "root\n",
      " |-- n_id_pdd: long (nullable = true)\n",
      " |-- d_dt_eft_pdd: date (nullable = true)\n",
      " |-- d_dt_entr_pdd: timestamp (nullable = true)\n",
      " |-- v_cnl_orig_pdd: string (nullable = true)\n",
      " |-- v_uf_entr_pdd: string (nullable = true)\n",
      " |-- v_lc_ent_pdd: string (nullable = true)\n",
      " |-- n_vlr_tot_pdd: decimal(38,2) (nullable = true)\n",
      "\n",
      "-RECORD 0-----------------------------\n",
      " n_id_pdd       | 1187021679777       \n",
      " d_dt_eft_pdd   | 2023-09-13          \n",
      " d_dt_entr_pdd  | 2023-09-13 21:49:15 \n",
      " v_cnl_orig_pdd | L                   \n",
      " v_uf_entr_pdd  | RS                  \n",
      " v_lc_ent_pdd   | VIAMAO              \n",
      " n_vlr_tot_pdd  | 19.99               \n",
      "only showing top 1 row\n",
      "\n"
     ]
    },
    {
     "data": {
      "text/plain": [
       "['n_id_pdd',\n",
       " 'd_dt_eft_pdd',\n",
       " 'd_dt_entr_pdd',\n",
       " 'v_cnl_orig_pdd',\n",
       " 'v_uf_entr_pdd',\n",
       " 'v_lc_ent_pdd',\n",
       " 'n_vlr_tot_pdd']"
      ]
     },
     "execution_count": 11,
     "metadata": {},
     "output_type": "execute_result"
    }
   ],
   "source": [
    "import os\n",
    "# Carregando o dataframe para verificar a estrutura das colunas e tipos de dados\n",
    "dados = spark.read.format(\"parquet\").load(os.path.abspath(r\"C:\\Users\\gustavo.lopes\\Documentos\\GitHub\\desafio_panvel-data_engineer\\datalake\\transient\\PEDIDOS\"))\n",
    "\n",
    "dados.printSchema()\n",
    "\n",
    "dados.show(n=1, vertical=True)\n",
    "dados.columns"
   ]
  },
  {
   "cell_type": "code",
   "execution_count": 13,
   "metadata": {},
   "outputs": [
    {
     "name": "stdout",
     "output_type": "stream",
     "text": [
      "+-------------+----------------------+-------------------+-------------------+---------+---------------+------------------+\n",
      "|    id_pedido|data_realizacao_pedido|       data_entrega|canal_origem_pedido|UF_pedido|destino_entrega|valor_total_pedido|\n",
      "+-------------+----------------------+-------------------+-------------------+---------+---------------+------------------+\n",
      "|1187021679777|            2023-09-13|2023-09-13 21:49:15|               Loja|       RS|         VIAMAO|             19.99|\n",
      "|1187888931657|            2023-09-29|2023-09-29 21:11:38|               Loja|       RS|   PORTO ALEGRE|             36.98|\n",
      "|1187806295857|            2023-09-28|2023-09-28 21:00:10|               Loja|       RS|   PORTO ALEGRE|             29.56|\n",
      "|1187490058337|            2023-09-22|2023-09-22 20:59:02|               Loja|       RS|   PORTO ALEGRE|             37.97|\n",
      "|1186976289657|            2023-09-12|2023-09-12 21:40:09|               Loja|       RS|   PORTO ALEGRE|             39.93|\n",
      "|1187367744477|            2023-09-19|2023-09-19 21:05:09|               Loja|       RS|    SANTA MARIA|             14.89|\n",
      "|1187489749387|            2023-09-22|2023-09-22 21:02:57|               Loja|       RS|   PORTO ALEGRE|             44.97|\n",
      "|1186347530157|            2023-09-01|2023-09-01 21:16:04|               Loja|       RS|         CANELA|             21.75|\n",
      "|1186744280417|            2023-09-08|2023-09-08 21:17:36|               Loja|       RS|  CAXIAS DO SUL|             51.48|\n",
      "|1187439836017|            2023-09-21|2023-09-21 21:05:30|               Loja|       RS|     URUGUAIANA|             35.99|\n",
      "|1186315504067|            2023-09-01|2023-09-01 21:19:05|               Loja|       RS|    SANTA MARIA|              9.97|\n",
      "|1186571878177|            2023-09-05|2023-09-05 22:22:53|               Loja|       RS|     URUGUAIANA|             37.58|\n",
      "|1186506325647|            2023-09-04|2023-09-04 21:48:40|               Loja|       RS|         CANOAS|              9.98|\n",
      "|1187439694307|            2023-09-21|2023-09-21 21:08:01|               Loja|       RS|         GUAIBA|             23.97|\n",
      "|1187371253557|            2023-09-19|2023-09-19 20:58:54|               Loja|       RS|   PORTO ALEGRE|             22.47|\n",
      "|1187092744197|            2023-09-14|2023-09-14 21:49:46|               Loja|       RS|  NOVO HAMBURGO|            391.94|\n",
      "|1187191044317|            2023-09-16|2023-09-16 21:10:45|               Loja|       RS|   PORTO ALEGRE|             38.97|\n",
      "|1187371202497|            2023-09-19|2023-09-19 21:07:40|               Loja|       RS| CAPAO DA CANOA|             44.35|\n",
      "|1187516368667|            2023-09-22|2023-09-22 21:04:15|               Loja|       RS|   PORTO ALEGRE|             85.64|\n",
      "|1187486534087|            2023-09-21|2023-09-22 21:11:24|               Loja|       RS|   PORTO ALEGRE|              3.79|\n",
      "+-------------+----------------------+-------------------+-------------------+---------+---------------+------------------+\n",
      "only showing top 20 rows\n",
      "\n"
     ]
    }
   ],
   "source": [
    "# Criando a tabela temporária e realizando a consulta que depois usaremos para transformar a camada raw\n",
    "dados.createOrReplaceTempView(\"pedidos_tmp\")\n",
    "\n",
    "query = formatar_sql(\"\"\"SELECT \n",
    "    CAST(pd.n_id_pdd AS BIGINT) AS id_pedido,\n",
    "    COALESCE(CAST(pd.d_dt_eft_pdd AS DATE), NULL) AS data_realizacao_pedido,\n",
    "    COALESCE(date_format(pd.d_dt_entr_pdd, 'yyyy-MM-dd HH:mm:ss'), NULL) AS data_entrega,\n",
    "    CASE \n",
    "        WHEN pd.v_cnl_orig_pdd = 'L' THEN 'Loja'\n",
    "        WHEN pd.v_cnl_orig_pdd = 'A' THEN 'App'\n",
    "        WHEN pd.v_cnl_orig_pdd = 'S' THEN 'Site'\n",
    "    END AS canal_origem_pedido,\n",
    "    COALESCE(CAST(pd.v_uf_entr_pdd AS STRING), '') AS UF_pedido,\n",
    "    COALESCE(CAST(pd.v_lc_ent_pdd AS STRING), '') AS destino_entrega,\n",
    "    CAST(pd.n_vlr_tot_pdd AS DECIMAL(38,2)) AS valor_total_pedido\n",
    "FROM pedidos_tmp as pd\"\"\")\n",
    "\n",
    "spark.sql(query).show()"
   ]
  },
  {
   "cell_type": "markdown",
   "metadata": {},
   "source": [
    "# Pedidos Vendas"
   ]
  },
  {
   "cell_type": "code",
   "execution_count": 14,
   "metadata": {},
   "outputs": [
    {
     "name": "stdout",
     "output_type": "stream",
     "text": [
      "root\n",
      " |-- n_id_fil: long (nullable = true)\n",
      " |-- n_id_vd_fil: long (nullable = true)\n",
      " |-- n_id_pdd: long (nullable = true)\n",
      "\n",
      "-RECORD 0--------------------\n",
      " n_id_fil    | 2408784       \n",
      " n_id_vd_fil | 34262326131   \n",
      " n_id_pdd    | 1189183932027 \n",
      "only showing top 1 row\n",
      "\n"
     ]
    },
    {
     "data": {
      "text/plain": [
       "['n_id_fil', 'n_id_vd_fil', 'n_id_pdd']"
      ]
     },
     "execution_count": 14,
     "metadata": {},
     "output_type": "execute_result"
    }
   ],
   "source": [
    "import os\n",
    "# Carregando o dataframe para verificar a estrutura das colunas e tipos de dados\n",
    "dados = spark.read.format(\"parquet\").load(os.path.abspath(r\"C:\\Users\\gustavo.lopes\\Documentos\\GitHub\\desafio_panvel-data_engineer\\datalake\\transient\\PEDIDO_VENDA\"))\n",
    "\n",
    "dados.printSchema()\n",
    "\n",
    "dados.show(n=1, vertical=True)\n",
    "dados.columns"
   ]
  },
  {
   "cell_type": "code",
   "execution_count": 16,
   "metadata": {},
   "outputs": [
    {
     "name": "stdout",
     "output_type": "stream",
     "text": [
      "+-------------+---------------+-------------+\n",
      "|codigo_filial|id_venda_filial|    id_pedido|\n",
      "+-------------+---------------+-------------+\n",
      "|      2408784|    34262326131|1189183932027|\n",
      "|       242984|    35434048331|1189596350677|\n",
      "|      2657984|     3474198431|1192614919827|\n",
      "|      2517984|      409543431|1188810414807|\n",
      "|      2457084|     4339980931|1192522099777|\n",
      "|       229684|    35465235531|1188385018407|\n",
      "|      2620184|     3789478231|1187171860557|\n",
      "|      2174984|    35255133331|1186640698547|\n",
      "|      2662184|     3752751431|1188256482257|\n",
      "|       249284|    35437182231|1185665835127|\n",
      "|      2626484|     3573693431|1192236782787|\n",
      "|      2462684|    34129728831|1193157735357|\n",
      "|      2471784|     4054827931|1191233879657|\n",
      "|      2310784|    34374246731|1187244935557|\n",
      "|      2453584|    34547578131|1184629304547|\n",
      "|      2593584|     4082528131|1184834489897|\n",
      "|       236684|    39168868431|1191362606727|\n",
      "|      2454284|    34532390431|1193198429067|\n",
      "|      2480184|     3964413431|1186700409887|\n",
      "|      2362584|     3865283631|1187801635707|\n",
      "+-------------+---------------+-------------+\n",
      "only showing top 20 rows\n",
      "\n"
     ]
    }
   ],
   "source": [
    "# Criando a tabela temporária e realizando a consulta que depois usaremos para transformar a camada raw\n",
    "dados.createOrReplaceTempView(\"pedido_venda_tmp\")\n",
    "\n",
    "query = formatar_sql(\"\"\"SELECT \n",
    "    CAST(pv.n_id_fil AS BIGINT) AS codigo_filial,\n",
    "    CAST(pv.n_id_vd_fil AS BIGINT) AS id_venda_filial,\n",
    "    CAST(pv.n_id_pdd AS BIGINT) AS id_pedido\n",
    "FROM pedido_venda_tmp as pv\"\"\")\n",
    "\n",
    "spark.sql(query).show()"
   ]
  }
 ],
 "metadata": {
  "kernelspec": {
   "display_name": "desafio_panvel-data_engineer-pE6NpJI7",
   "language": "python",
   "name": "python3"
  },
  "language_info": {
   "codemirror_mode": {
    "name": "ipython",
    "version": 3
   },
   "file_extension": ".py",
   "mimetype": "text/x-python",
   "name": "python",
   "nbconvert_exporter": "python",
   "pygments_lexer": "ipython3",
   "version": "3.10.10"
  }
 },
 "nbformat": 4,
 "nbformat_minor": 2
}

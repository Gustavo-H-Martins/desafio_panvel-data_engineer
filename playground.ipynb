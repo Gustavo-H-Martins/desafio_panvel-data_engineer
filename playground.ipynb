{
 "cells": [
  {
   "cell_type": "code",
   "execution_count": 1,
   "metadata": {},
   "outputs": [
    {
     "name": "stderr",
     "output_type": "stream",
     "text": [
      "INFO    ||2024-01-25 14:03:15||root        ||38||Retornando a tabela DuckDB com o nome: CLIENTES\n"
     ]
    }
   ],
   "source": [
    "from data_processing import carregar_tabela_delta_duckdb, consultar_tabela_duck_db\n",
    "\n",
    "clientes = carregar_tabela_delta_duckdb(r\"C:\\Users\\gustavo.lopes\\Documentos\\GitHub\\desafio_panvel-data_engineer\\datalake\\camada_refined\\CLIENTES\")"
   ]
  },
  {
   "cell_type": "code",
   "execution_count": 2,
   "metadata": {},
   "outputs": [
    {
     "name": "stderr",
     "output_type": "stream",
     "text": [
      "INFO    ||2024-01-25 14:03:15||root        ||54||\n",
      "\n",
      "╒══════════════════════╤════════════╤═══════════╤════════╤═══════╤════════════════════════════╕\n",
      "│ 0000009DB36F622B7639 │ 2003-11-14 │ Feminino  │        │ False │ 2024-01-24 19:46:12.102054 │\n",
      "├──────────────────────┼────────────┼───────────┼────────┼───────┼────────────────────────────┤\n",
      "│ 000000F51C15031D708E │ 2008-03-23 │ Feminino  │        │ False │ 2024-01-24 19:46:12.102054 │\n",
      "├──────────────────────┼────────────┼───────────┼────────┼───────┼────────────────────────────┤\n",
      "│ 00000F54BE2BBF0E7B13 │ 1986-02-24 │ Feminino  │        │ False │ 2024-01-24 19:46:12.102054 │\n",
      "├──────────────────────┼────────────┼───────────┼────────┼───────┼────────────────────────────┤\n",
      "│ 000013E1FB44D9A9E50F │ 1984-12-13 │ Masculino │        │ False │ 2024-01-24 19:46:12.102054 │\n",
      "├──────────────────────┼────────────┼───────────┼────────┼───────┼────────────────────────────┤\n",
      "│ 00001522AD94645C7688 │ 1992-11-10 │ Feminino  │ Casado │ False │ 2024-01-24 19:46:12.102054 │\n",
      "╘══════════════════════╧════════════╧═══════════╧════════╧═══════╧════════════════════════════╛\n"
     ]
    }
   ],
   "source": [
    "query = \"SELECT * FROM CLIENTES LIMIT 5\"\n",
    "consultar_tabela_duck_db(tabela_duckdb=clientes, query_sql=query)"
   ]
  }
 ],
 "metadata": {
  "kernelspec": {
   "display_name": "desafio_panvel-data_engineer-pE6NpJI7",
   "language": "python",
   "name": "python3"
  },
  "language_info": {
   "codemirror_mode": {
    "name": "ipython",
    "version": 3
   },
   "file_extension": ".py",
   "mimetype": "text/x-python",
   "name": "python",
   "nbconvert_exporter": "python",
   "pygments_lexer": "ipython3",
   "version": "3.10.10"
  }
 },
 "nbformat": 4,
 "nbformat_minor": 2
}
